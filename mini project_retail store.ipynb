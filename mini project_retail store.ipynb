{
 "cells": [
  {
   "cell_type": "markdown",
   "metadata": {},
   "source": [
    "# Before your start:\n",
    "- Read the README.md file\n",
    "- Happy learning!"
   ]
  },
  {
   "cell_type": "code",
   "execution_count": 52,
   "metadata": {},
   "outputs": [],
   "source": [
    "# Import your libraries:\n",
    "\n",
    "%matplotlib inline\n",
    "\n",
    "import matplotlib.pyplot as plt\n",
    "import numpy as np\n",
    "import pandas as pd\n",
    "import seaborn as sns\n",
    "import warnings                                              \n",
    "from sklearn.exceptions import DataConversionWarning          \n",
    "warnings.filterwarnings(action='ignore', category=DataConversionWarning)"
   ]
  },
  {
   "cell_type": "code",
   "execution_count": 53,
   "metadata": {},
   "outputs": [],
   "source": [
    "# loading the data: Retail Sales data\n",
    "\n",
    "sales = pd.read_csv('sales.csv')\n",
    "real_sales = pd.read_csv('REAL_DATA.csv')"
   ]
  },
  {
   "cell_type": "code",
   "execution_count": 54,
   "metadata": {},
   "outputs": [
    {
     "name": "stdout",
     "output_type": "stream",
     "text": [
      "   Unnamed: 0  store_ID  day_of_week        date  nb_customers_on_day  open  \\\n",
      "0      425390       366            4  2013-04-18                  517     1   \n",
      "1      291687       394            6  2015-04-11                  694     1   \n",
      "2      411278       807            4  2013-08-29                  970     1   \n",
      "3      664714       802            2  2013-05-28                  473     1   \n",
      "4      540835       726            4  2013-10-10                 1068     1   \n",
      "\n",
      "   promotion state_holiday  school_holiday  sales  \n",
      "0          0             0               0   4422  \n",
      "1          0             0               0   8297  \n",
      "2          1             0               0   9729  \n",
      "3          1             0               0   6513  \n",
      "4          1             0               0  10882  \n",
      "    index  store_ID  day_of_week        date  nb_customers_on_day  open  \\\n",
      "0  272371       415            7  01/03/2015                    0     0   \n",
      "1  558468        27            7  29/12/2013                    0     0   \n",
      "2   76950       404            3  19/03/2014                  657     1   \n",
      "3   77556       683            2  29/01/2013                  862     1   \n",
      "4  456344       920            3  19/03/2014                  591     1   \n",
      "\n",
      "   promotion state_holiday  school_holiday  \n",
      "0          0             0               0  \n",
      "1          0             0               0  \n",
      "2          1             0               0  \n",
      "3          0             0               0  \n",
      "4          1             0               0  \n"
     ]
    }
   ],
   "source": [
    "print(sales.head())\n",
    "print(real_sales.head())"
   ]
  },
  {
   "cell_type": "code",
   "execution_count": 55,
   "metadata": {},
   "outputs": [
    {
     "name": "stdout",
     "output_type": "stream",
     "text": [
      "\n",
      "Missing data:\n",
      "Unnamed: 0             0\n",
      "store_ID               0\n",
      "day_of_week            0\n",
      "date                   0\n",
      "nb_customers_on_day    0\n",
      "open                   0\n",
      "promotion              0\n",
      "state_holiday          0\n",
      "school_holiday         0\n",
      "sales                  0\n",
      "dtype: int64\n",
      "\n",
      ":\n",
      "index                  0\n",
      "store_ID               0\n",
      "day_of_week            0\n",
      "date                   0\n",
      "nb_customers_on_day    0\n",
      "open                   0\n",
      "promotion              0\n",
      "state_holiday          0\n",
      "school_holiday         0\n",
      "dtype: int64\n",
      "\n",
      ":\n",
      "Index(['Unnamed: 0', 'store_ID', 'day_of_week', 'date', 'nb_customers_on_day',\n",
      "       'open', 'promotion', 'state_holiday', 'school_holiday', 'sales'],\n",
      "      dtype='object')\n",
      "\n",
      ":\n",
      "Index(['index', 'store_ID', 'day_of_week', 'date', 'nb_customers_on_day',\n",
      "       'open', 'promotion', 'state_holiday', 'school_holiday'],\n",
      "      dtype='object')\n"
     ]
    }
   ],
   "source": [
    "#there are no missing data\n",
    "print(\"\\nMissing data:\")\n",
    "print(sales.isnull().sum())\n",
    "print(\"\\n:\")\n",
    "print(real_sales.isnull().sum()) #IF THERE ARE NULL VALUES IN THE REAL DATASET, WE NEED TO EXTRACT AND GO BACK TO CUSTOMERS AS ERRORS!\n",
    "\n",
    "print(\"\\n:\")\n",
    "print(sales.columns)\n",
    "print(\"\\n:\")\n",
    "print(real_sales.columns)\n",
    "\n",
    "#Drop the first column as this seems to be from Indexing and doesn't make sense\n",
    "sales = sales.drop(columns=[\"Unnamed: 0\"])\n",
    "real_sales = real_sales.drop(columns = ['index'])"
   ]
  },
  {
   "cell_type": "code",
   "execution_count": 56,
   "metadata": {},
   "outputs": [
    {
     "name": "stdout",
     "output_type": "stream",
     "text": [
      "store_ID                int64\n",
      "day_of_week             int64\n",
      "date                   object\n",
      "nb_customers_on_day     int64\n",
      "open                    int64\n",
      "promotion               int64\n",
      "state_holiday          object\n",
      "school_holiday          int64\n",
      "sales                   int64\n",
      "dtype: object\n",
      "store_ID                int64\n",
      "day_of_week             int64\n",
      "date                   object\n",
      "nb_customers_on_day     int64\n",
      "open                    int64\n",
      "promotion               int64\n",
      "state_holiday          object\n",
      "school_holiday          int64\n",
      "dtype: object\n"
     ]
    }
   ],
   "source": [
    "print(sales.dtypes)\n",
    "print(real_sales.dtypes)"
   ]
  },
  {
   "cell_type": "code",
   "execution_count": 57,
   "metadata": {},
   "outputs": [
    {
     "name": "stdout",
     "output_type": "stream",
     "text": [
      "                     store_ID  day_of_week  nb_customers_on_day      open  \\\n",
      "store_ID             1.000000     0.000329             0.023605 -0.001108   \n",
      "day_of_week          0.000329     1.000000            -0.385616 -0.527947   \n",
      "nb_customers_on_day  0.023605    -0.385616             1.000000  0.617264   \n",
      "open                -0.001108    -0.527947             0.617264  1.000000   \n",
      "promotion           -0.000364    -0.392736             0.315858  0.294936   \n",
      "school_holiday      -0.000706    -0.206069             0.071085  0.085213   \n",
      "\n",
      "                     promotion  school_holiday  \n",
      "store_ID             -0.000364       -0.000706  \n",
      "day_of_week          -0.392736       -0.206069  \n",
      "nb_customers_on_day   0.315858        0.071085  \n",
      "open                  0.294936        0.085213  \n",
      "promotion             1.000000        0.066565  \n",
      "school_holiday        0.066565        1.000000  \n"
     ]
    },
    {
     "data": {
      "image/png": "[encoded data removed]",
      "text/plain": [
       "<Figure size 1200x1000 with 2 Axes>"
      ]
     },
     "metadata": {},
     "output_type": "display_data"
    }
   ],
   "source": [
    "# Create the correlation matrix on Training dataset\n",
    "\n",
    "# Select only numeric columns and drop the target 'Sales'\n",
    "\n",
    "sales_without_sales = sales.drop('sales', axis=1)\n",
    "\n",
    "numeric_columns = sales_without_sales.select_dtypes(include=['number'])\n",
    "\n",
    "correlation_matrix = numeric_columns.corr()\n",
    "print(correlation_matrix)\n",
    "\n",
    "#Create the Heatmap\n",
    "\n",
    "plt.figure(figsize=(12, 10))\n",
    "sns.heatmap(correlation_matrix, annot=True, cmap='coolwarm', vmin=-1, vmax=1)\n",
    "plt.title('Correlation Matrix Heatmap')\n",
    "plt.show()\n"
   ]
  },
  {
   "cell_type": "code",
   "execution_count": 58,
   "metadata": {},
   "outputs": [
    {
     "name": "stdout",
     "output_type": "stream",
     "text": [
      "   store_ID  day_of_week        date  nb_customers_on_day  open  promotion  \\\n",
      "0       366            4  2013-04-18                  517     1          0   \n",
      "1       394            6  2015-04-11                  694     1          0   \n",
      "2       807            4  2013-08-29                  970     1          1   \n",
      "3       802            2  2013-05-28                  473     1          1   \n",
      "4       726            4  2013-10-10                 1068     1          1   \n",
      "\n",
      "  state_holiday  school_holiday  sales  promo_customers_interaction  \n",
      "0             0               0   4422                            0  \n",
      "1             0               0   8297                            0  \n",
      "2             0               0   9729                          970  \n",
      "3             0               0   6513                          473  \n",
      "4             0               0  10882                         1068  \n",
      "   store_ID  day_of_week        date  nb_customers_on_day  open  promotion  \\\n",
      "0       415            7  01/03/2015                    0     0          0   \n",
      "1        27            7  29/12/2013                    0     0          0   \n",
      "2       404            3  19/03/2014                  657     1          1   \n",
      "3       683            2  29/01/2013                  862     1          0   \n",
      "4       920            3  19/03/2014                  591     1          1   \n",
      "\n",
      "  state_holiday  school_holiday  promo_customers_interaction  \n",
      "0             0               0                            0  \n",
      "1             0               0                            0  \n",
      "2             0               0                          657  \n",
      "3             0               0                            0  \n",
      "4             0               0                          591  \n"
     ]
    }
   ],
   "source": [
    "# NOTE HIGH CORRELATION BETWEEN PROMOTION AND NB_CUSTOMERS_ON_DAY, \n",
    "# I could create additional feature called - sales['promo_customers_interaction'] = sales['promotion'] * sales['nb_customers_on_day'] as 'FEATURE ENGINEERING' but XGBOOST takes care of it!\n",
    "\n",
    "sales['promo_customers_interaction'] = sales['promotion'] * sales['nb_customers_on_day']\n",
    "real_sales['promo_customers_interaction'] = real_sales['promotion'] * real_sales['nb_customers_on_day']\n",
    "\n",
    "print(sales.head())\n",
    "print(real_sales.head())"
   ]
  },
  {
   "cell_type": "code",
   "execution_count": 59,
   "metadata": {},
   "outputs": [],
   "source": [
    "# DATA TRANSFORMATION STEPS:\n",
    "\n",
    "# Step 1 Missing value problem - Have NONE"
   ]
  },
  {
   "cell_type": "code",
   "execution_count": 60,
   "metadata": {},
   "outputs": [],
   "source": [
    "# Step 2 - CONVERT Catagorical data to Numerical value\n",
    "\n",
    "import pandas as pd\n",
    "\n",
    "# 'state_holiday' is an object contains value of 0,a,b,c convert these into Numerical value using One-Hot Encoding. \n",
    "\n",
    "sales = pd.get_dummies(sales, columns=['state_holiday'], drop_first=True)\n",
    "real_sales = pd.get_dummies(real_sales, columns=['state_holiday'], drop_first=True)"
   ]
  },
  {
   "cell_type": "code",
   "execution_count": 61,
   "metadata": {},
   "outputs": [
    {
     "name": "stdout",
     "output_type": "stream",
     "text": [
      "store_ID                       int64\n",
      "day_of_week                    int64\n",
      "nb_customers_on_day            int64\n",
      "open                           int64\n",
      "promotion                      int64\n",
      "school_holiday                 int64\n",
      "sales                          int64\n",
      "promo_customers_interaction    int64\n",
      "state_holiday_a                 bool\n",
      "state_holiday_b                 bool\n",
      "state_holiday_c                 bool\n",
      "year                           int32\n",
      "month                          int32\n",
      "day                            int32\n",
      "dtype: object\n",
      "\n",
      ":\n",
      "store_ID                       int64\n",
      "day_of_week                    int64\n",
      "nb_customers_on_day            int64\n",
      "open                           int64\n",
      "promotion                      int64\n",
      "school_holiday                 int64\n",
      "promo_customers_interaction    int64\n",
      "state_holiday_a                 bool\n",
      "state_holiday_b                 bool\n",
      "state_holiday_c                 bool\n",
      "year                           int32\n",
      "month                          int32\n",
      "day                            int32\n",
      "dtype: object\n"
     ]
    }
   ],
   "source": [
    "# convert Catagorical data to Numerical value. Convert the 'date' feature\n",
    "\n",
    "# Function to convert date to datetime and extract features\n",
    "def process_dates(df):\n",
    "    # Check the format of the date\n",
    "    if '/' in df['date'].iloc[0]:  # Check if it contains '/'\n",
    "        try:\n",
    "            # Try converting assuming dd/mm/yyyy format\n",
    "            df['date'] = pd.to_datetime(df['date'], format='%d/%m/%Y')\n",
    "        except ValueError:\n",
    "            # If it fails, assume it’s in yyyy/mm/dd format\n",
    "            df['date'] = pd.to_datetime(df['date'], format='%Y/%m/%d')\n",
    "    else:\n",
    "        # Assume default format if no '/' (for future-proofing)\n",
    "        df['date'] = pd.to_datetime(df['date'])\n",
    "\n",
    "    # Extract features from the date\n",
    "    df['year'] = df['date'].dt.year\n",
    "    df['month'] = df['date'].dt.month\n",
    "    df['day'] = df['date'].dt.day\n",
    "\n",
    "    # Drop the original date column \n",
    "    df = df.drop('date', axis=1)\n",
    "    \n",
    "    return df\n",
    "\n",
    "# Process training set\n",
    "sales = process_dates(sales)\n",
    "\n",
    "# Process test set\n",
    "real_sales = process_dates(real_sales)\n",
    "\n",
    "print(sales.dtypes)\n",
    "print(\"\\n:\")\n",
    "print(real_sales.dtypes)"
   ]
  },
  {
   "cell_type": "code",
   "execution_count": 62,
   "metadata": {},
   "outputs": [
    {
     "data": {
      "text/plain": [
       "array([[-4.47843426e-01,  1.50139519e+00, -1.35707018e+00, ...,\n",
       "         1.49904608e+00, -8.56760080e-01, -1.66660046e+00],\n",
       "       [-1.65252605e+00,  1.50139519e+00, -1.35707018e+00, ...,\n",
       "        -1.07392189e+00,  1.85304770e+00,  1.51156422e+00],\n",
       "       [-4.81996800e-01, -5.01102516e-01,  5.05358709e-02, ...,\n",
       "         2.12562096e-01, -8.56760080e-01,  3.76505409e-01],\n",
       "       ...,\n",
       "       [-1.68978428e+00, -5.01102516e-01,  3.12535962e-02, ...,\n",
       "         2.12562096e-01,  4.65091805e-02, -5.31541643e-01],\n",
       "       [ 1.21325246e+00, -1.00172694e+00, -1.58808531e-02, ...,\n",
       "        -1.07392189e+00, -5.55670326e-01,  8.30528935e-01],\n",
       "       [ 1.15736512e+00, -4.78090877e-04,  4.16899091e-01, ...,\n",
       "        -1.07392189e+00,  1.55195795e+00,  6.03517172e-01]])"
      ]
     },
     "execution_count": 62,
     "metadata": {},
     "output_type": "execute_result"
    }
   ],
   "source": [
    "# DATA PRE-PROCESSING STEPS:\n",
    "\n",
    "# STEP 1: Standardization using StandardScaler - Feature Scaling!!! to standardize diff ranges of features\n",
    "\n",
    "from sklearn.preprocessing import StandardScaler\n",
    "\n",
    "# Split the input between features and target and apply Scaling to the features\n",
    "\n",
    "X = sales.drop('sales', axis=1)\n",
    "y = sales['sales']\n",
    "\n",
    "X_train_scaled = StandardScaler().fit_transform(X)\n",
    "X_real_scaled = StandardScaler().fit_transform(real_sales)\n",
    "X_real_scaled\n"
   ]
  },
  {
   "cell_type": "code",
   "execution_count": 63,
   "metadata": {},
   "outputs": [
    {
     "name": "stdout",
     "output_type": "stream",
     "text": [
      "(640840, 13)\n",
      "(71205, 13)\n"
     ]
    }
   ],
   "source": [
    "print(X_train_scaled.shape)\n",
    "print(X_real_scaled.shape)"
   ]
  },
  {
   "cell_type": "code",
   "execution_count": 64,
   "metadata": {},
   "outputs": [
    {
     "name": "stdout",
     "output_type": "stream",
     "text": [
      "Mean Squared Error: 958910.257063057\n",
      "R² Score: 0.9353342204489773\n"
     ]
    }
   ],
   "source": [
    "# AI MODEL 1: XGBoost. \n",
    "\n",
    "import xgboost as xgb\n",
    "from xgboost import XGBRegressor\n",
    "from sklearn.model_selection import train_test_split\n",
    "from sklearn.metrics import mean_squared_error, r2_score\n",
    "\n",
    "\n",
    "# Assuming you have your features in X and target in y\n",
    "X_train, X_test, y_train, y_test = train_test_split(X_train_scaled, y, test_size=0.15, random_state=42)\n",
    "\n",
    "# Initialize the XGBoost Regressor\n",
    "xgb_reg = XGBRegressor()\n",
    "\n",
    "# Fit the model\n",
    "xgb_reg.fit(X_train, y_train)\n",
    "\n",
    "# Make predictions\n",
    "y_pred = xgb_reg.predict(X_test)                # TRAINING DATA Prediction\n",
    "y_pred_real = xgb_reg.predict(X_real_scaled)    # REAL DATA Prediction\n",
    "\n",
    "\n",
    "# Creating the CSV file to deliver\n",
    "real_sales_final = real_sales\n",
    "real_sales_final['sales'] = pd.DataFrame(y_pred_real, columns=['sales']).astype('int64')\n",
    "real_sales_final.to_csv('G5_v2.csv', index=False)\n",
    "\n",
    "# Evaluate the model\n",
    "mse = mean_squared_error(y_test, y_pred)\n",
    "r2 = r2_score(y_test, y_pred)\n",
    "\n",
    "print(f'Mean Squared Error: {mse}')\n",
    "print(f'R² Score: {r2}')"
   ]
  },
  {
   "cell_type": "code",
   "execution_count": 65,
   "metadata": {},
   "outputs": [
    {
     "data": {
      "text/plain": [
       "\" # FEATURE PERFORMANCE analysis after Training the model.\\n\\n#! pip install xgboost\\n\\nimport xgboost # Import XGBoost\\n\\n#X = sales._get_numeric_data().drop('sales', axis=1)\\n#y = sales['sales']\\n\\nxgb = xgboost.XGBRegressor()  # Initialize the XGBoost Regressor\\nxgb.fit(X,y) \""
      ]
     },
     "execution_count": 65,
     "metadata": {},
     "output_type": "execute_result"
    }
   ],
   "source": [
    "\"\"\" # FEATURE PERFORMANCE analysis after Training the model.\n",
    "\n",
    "#! pip install xgboost\n",
    "\n",
    "import xgboost # Import XGBoost\n",
    "\n",
    "#X = sales._get_numeric_data().drop('sales', axis=1)\n",
    "#y = sales['sales']\n",
    "\n",
    "xgb = xgboost.XGBRegressor()  # Initialize the XGBoost Regressor\n",
    "xgb.fit(X,y) \"\"\""
   ]
  },
  {
   "cell_type": "code",
   "execution_count": 66,
   "metadata": {},
   "outputs": [
    {
     "data": {
      "text/plain": [
       "' sort_idx = xgb.feature_importances_.argsort()   #feature importance sort\\n\\nplt.barh(X.columns[sort_idx],xgb.feature_importances_[sort_idx])    #plotting feature importance\\nplt.show(); '"
      ]
     },
     "execution_count": 66,
     "metadata": {},
     "output_type": "execute_result"
    }
   ],
   "source": [
    "\"\"\" sort_idx = xgb.feature_importances_.argsort()   #feature importance sort\n",
    "\n",
    "plt.barh(X.columns[sort_idx],xgb.feature_importances_[sort_idx])    #plotting feature importance\n",
    "plt.show(); \"\"\""
   ]
  },
  {
   "cell_type": "code",
   "execution_count": 67,
   "metadata": {},
   "outputs": [
    {
     "data": {
      "text/plain": [
       "' # COMMENT: After running the model, removing these 2 features reduces the Training set performance R2\\n\\n# Based on feature performance ABOVE, remove feature that are not of high importance and run the model again.\\n#removing features that have little to no impact on the target variable can help improve the model\\'s performance. \\n\\n# nb_customers_open_interaction and school_holiday are not contributing significantly, I am going to drop these from my model.\\n\\nsales = sales.drop(columns=[\"school_holiday\", \\'nb_customers_open_interaction\\'])\\nprint(sales.dtypes)\\nprint(sales.shape) '"
      ]
     },
     "execution_count": 67,
     "metadata": {},
     "output_type": "execute_result"
    }
   ],
   "source": [
    "\"\"\" # COMMENT: After running the model, removing these 2 features reduces the Training set performance R2\n",
    "\n",
    "# Based on feature performance ABOVE, remove feature that are not of high importance and run the model again.\n",
    "#removing features that have little to no impact on the target variable can help improve the model's performance. \n",
    "\n",
    "# nb_customers_open_interaction and school_holiday are not contributing significantly, I am going to drop these from my model.\n",
    "\n",
    "sales = sales.drop(columns=[\"school_holiday\", 'nb_customers_open_interaction'])\n",
    "print(sales.dtypes)\n",
    "print(sales.shape) \"\"\""
   ]
  },
  {
   "cell_type": "code",
   "execution_count": 68,
   "metadata": {},
   "outputs": [
    {
     "name": "stdout",
     "output_type": "stream",
     "text": [
      "Cross-Validation R² Scores: [0.91253839 0.91477639 0.9121188  0.91273696 0.91322996]\n",
      "Average R² Score: 0.9131\n",
      "Standard Deviation of R² Score: 0.0009\n"
     ]
    }
   ],
   "source": [
    "# Perform Cross validation on the model to know it generalizes well and with small standard deviation, it indicates consistent performance\n",
    "# 5 FOLD cross validation\n",
    "\n",
    "from sklearn.model_selection import cross_val_score\n",
    "from xgboost import XGBRegressor\n",
    "import numpy as np\n",
    "\n",
    "# Initialize the XGBoost Regressor with the same parameters used before\n",
    "xgb_reg = XGBRegressor(\n",
    "    n_estimators=100,    # number of boosting rounds\n",
    "    learning_rate=0.1,   # step size shrinkage\n",
    "    max_depth=6,         # maximum depth of trees\n",
    "    subsample=0.8,       # fraction of samples to be used for fitting the trees\n",
    "    colsample_bytree=0.8 # fraction of features to be used for fitting the trees\n",
    ")\n",
    "\n",
    "# Perform 5-Fold Cross-Validation\n",
    "cv_scores = cross_val_score(xgb_reg, X_train_scaled, y, cv=5, scoring='r2')\n",
    "\n",
    "# Calculate mean and standard deviation of R² scores\n",
    "mean_cv_score = np.mean(cv_scores)\n",
    "std_cv_score = np.std(cv_scores)\n",
    "\n",
    "print(f'Cross-Validation R² Scores: {cv_scores}')\n",
    "print(f'Average R² Score: {mean_cv_score:.4f}')\n",
    "print(f'Standard Deviation of R² Score: {std_cv_score:.4f}')"
   ]
  },
  {
   "cell_type": "code",
   "execution_count": null,
   "metadata": {},
   "outputs": [],
   "source": [
    "\"\"\" # Creating the CSV file to deliver\n",
    "real_sales_df_final = real_sales\n",
    "real_sales_df_final['sales'] = pd.DataFrame(y_pred_real_scaled, columns=['sales']).astype('int64')\n",
    "real_sales_df_final.to_csv('G5.csv', index=False) \"\"\""
   ]
  },
  {
   "cell_type": "code",
   "execution_count": 73,
   "metadata": {},
   "outputs": [
    {
     "name": "stdout",
     "output_type": "stream",
     "text": [
      "R2 Scores: [0.8719360343641072, 0.8753091802705868, 0.8708503567222661]\n",
      "Average R2 Score: 0.8726985237856534\n"
     ]
    }
   ],
   "source": [
    "# MODEL 2: RandomForest model with K-fold validation, KFOLD split = 3\n",
    "\n",
    "from sklearn.ensemble import RandomForestRegressor  # Example model\n",
    "from sklearn.model_selection import KFold\n",
    "from sklearn.metrics import mean_squared_error, r2_score\n",
    "\n",
    "#rf = RandomForestRegressor()\n",
    "rf = RandomForestRegressor(n_estimators=100, max_depth=10, max_features='sqrt')\n",
    "\n",
    "\n",
    "kf = KFold(n_splits=3, shuffle=True, random_state=42)  # I can adjust n_splits based on needs (keeping it to 3 so it can run faster)\n",
    "\n",
    "r2_scores = []\n",
    "mse_scores = []\n",
    "\n",
    "for train_index, test_index in kf.split(X_scaled):\n",
    "    X_train, X_test = X_train_scaled[train_index], X_train_scaled[test_index] # This is scaled numpy array\n",
    "    y_train, y_test = y.iloc[train_index], y.iloc[test_index]     # This is DF \n",
    "    \n",
    "    rf.fit(X_train, y_train)\n",
    "    y_pred = rf.predict(X_test)\n",
    "    \n",
    "    r2_scores.append(r2_score(y_test, y_pred))\n",
    "   #mse_scores.append(mean_squared_error(y_test, y_pred))\n",
    "    \n",
    "print(f\"R2 Scores: {r2_scores}\")\n",
    "#print(f\"Mean Squared Error Scores: {mse_scores}\")\n",
    "print(f\"Average R2 Score: {sum(r2_scores)/len(r2_scores)}\")\n",
    "#print(f\"Average Mean Squared Error: {sum(mse_scores)/len(mse_scores)}\")"
   ]
  },
  {
   "cell_type": "code",
   "execution_count": 69,
   "metadata": {},
   "outputs": [],
   "source": [
    "# Cross check with LightGBM model\n",
    "\n",
    "#!pip install lightgbm"
   ]
  },
  {
   "cell_type": "code",
   "execution_count": 72,
   "metadata": {},
   "outputs": [
    {
     "name": "stdout",
     "output_type": "stream",
     "text": [
      "[LightGBM] [Info] Auto-choosing row-wise multi-threading, the overhead of testing was 0.031292 seconds.\n",
      "You can set `force_row_wise=true` to remove the overhead.\n",
      "And if memory is not enough, you can set `force_col_wise=true`.\n",
      "[LightGBM] [Info] Total Bins 840\n",
      "[LightGBM] [Info] Number of data points in the train set: 544714, number of used features: 13\n",
      "[LightGBM] [Info] Start training from score 5778.633237\n",
      "R² Score: 0.9046179993438888\n"
     ]
    }
   ],
   "source": [
    "# MODEL 3 - LightGBM Model\n",
    "\n",
    "import lightgbm as lgb\n",
    "from sklearn.model_selection import train_test_split\n",
    "from sklearn.metrics import mean_squared_error, r2_score\n",
    "\n",
    "# Assuming you have your features in X and target in y\n",
    "# Split the data into training and test sets\n",
    "X_train, X_test, y_train, y_test = train_test_split(X_train_scaled, y, test_size=0.15, random_state=42)\n",
    "\n",
    "# Create LightGBM dataset\n",
    "train_data = lgb.Dataset(X_train, label=y_train)\n",
    "test_data = lgb.Dataset(X_test, label=y_test, reference=train_data)\n",
    "\n",
    "# Set parameters for LightGBM\n",
    "params = {\n",
    "    'objective': 'regression',\n",
    "    'metric': 'rmse',  # root mean squared error\n",
    "    'boosting_type': 'gbdt',  # Gradient Boosting Decision Tree\n",
    "    'num_leaves': 31,  # Maximum tree leaves for base learners\n",
    "    'learning_rate': 0.05,\n",
    "    'feature_fraction': 0.9,  # Use 90% of features for training\n",
    "}\n",
    "\n",
    "# Train the model without early stopping\n",
    "num_round = 100  # Number of boosting rounds\n",
    "lgb_model = lgb.train(params, train_data, num_round, valid_sets=[train_data, test_data])\n",
    "\n",
    "# Make predictions\n",
    "y_pred = lgb_model.predict(X_test, num_iteration=lgb_model.best_iteration)\n",
    "\n",
    "# Evaluate the model\n",
    "#mse = mean_squared_error(y_test, y_pred)\n",
    "r2 = r2_score(y_test, y_pred)\n",
    "\n",
    "#print(f'Mean Squared Error: {mse}')\n",
    "print(f'R² Score: {r2}')\n"
   ]
  }
 ],
 "metadata": {
  "kernelspec": {
   "display_name": "Python 3 (ipykernel)",
   "language": "python",
   "name": "python3"
  },
  "language_info": {
   "codemirror_mode": {
    "name": "ipython",
    "version": 3
   },
   "file_extension": ".py",
   "mimetype": "text/x-python",
   "name": "python",
   "nbconvert_exporter": "python",
   "pygments_lexer": "ipython3",
   "version": "3.12.3"
  },
  "toc": {
   "base_numbering": 1,
   "nav_menu": {},
   "number_sections": true,
   "sideBar": true,
   "skip_h1_title": false,
   "title_cell": "Table of Contents",
   "title_sidebar": "Contents",
   "toc_cell": true,
   "toc_position": {},
   "toc_section_display": true,
   "toc_window_display": false
  },
  "varInspector": {
   "cols": {
    "lenName": 16,
    "lenType": 16,
    "lenVar": 40
   },
   "kernels_config": {
    "python": {
     "delete_cmd_postfix": "",
     "delete_cmd_prefix": "del ",
     "library": "var_list.py",
     "varRefreshCmd": "print(var_dic_list())"
    },
    "r": {
     "delete_cmd_postfix": ") ",
     "delete_cmd_prefix": "rm(",
     "library": "var_list.r",
     "varRefreshCmd": "cat(var_dic_list()) "
    }
   },
   "types_to_exclude": [
    "module",
    "function",
    "builtin_function_or_method",
    "instance",
    "_Feature"
   ],
   "window_display": false
  }
 },
 "nbformat": 4,
 "nbformat_minor": 2
}
